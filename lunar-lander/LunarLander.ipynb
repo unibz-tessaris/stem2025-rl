{
 "cells": [
  {
   "cell_type": "markdown",
   "id": "d3313866-c018-46dd-9316-d87cd6620c44",
   "metadata": {},
   "source": [
    "# Lunar Lander"
   ]
  },
  {
   "cell_type": "markdown",
   "id": "774ffa78-4ac7-4f0b-acbb-74334646e4b9",
   "metadata": {},
   "source": [
    "In questo notebook esploreremo il problema del **Lunar Lander**, un classico ambiente di controllo sviluppato all'interno della libreria Gymnasium ([documentazione ufficiale](https://gymnasium.farama.org/environments/box2d/lunar_lander/)). L'obiettivo è guidare un lander spaziale verso un atterraggio sicuro tra due bandierine, ottimizzando l'uso del carburante e minimizzando la velocità d'impatto.\n",
    "\n",
    "Utilizzeremo tecniche di Reinforcement Learning (RL), come SARSA e Q-Learning, per addestrare un agente a risolvere il problema. Inoltre, analizzeremo diversi approcci alla discretizzazione dello spazio degli stati e strategie per migliorare la stabilità della convergenza.\n",
    "\n",
    "Siete pronti a far atterrare il vostro lander? 🚀✨"
   ]
  },
  {
   "cell_type": "markdown",
   "id": "0a4262c4-a802-425f-b919-60eb44319f07",
   "metadata": {},
   "source": [
    "Come primo passo, importiamo le librerie necessarie all'esecuzione di questo notebook."
   ]
  },
  {
   "cell_type": "code",
   "execution_count": 10,
   "id": "8a29d3d9-ba9b-4b37-a77e-db9039462661",
   "metadata": {},
   "outputs": [],
   "source": [
    "import gymnasium as gym\n",
    "import random\n",
    "from collections import defaultdict\n",
    "from functools import reduce\n",
    "from learn_utils import *\n",
    "import numpy as np\n",
    "import matplotlib.pyplot as plt"
   ]
  },
  {
   "cell_type": "markdown",
   "id": "bde56bd5-adc9-4084-9c61-9ebbbc10109e",
   "metadata": {},
   "source": [
    "Ora creiamo l'ambiente gymnasium per il lander."
   ]
  },
  {
   "cell_type": "code",
   "execution_count": 11,
   "id": "781cf52e-07f7-4719-961b-26c20134c0b2",
   "metadata": {},
   "outputs": [
    {
     "name": "stderr",
     "output_type": "stream",
     "text": [
      "<frozen importlib._bootstrap>:488: RuntimeWarning: Your system is avx2 capable but pygame was not built with support for it. The performance of some of your blits could be adversely affected. Consider enabling compile time detection with environment variables like PYGAME_DETECT_AVX2=1 if you are compiling without cross compilation.\n"
     ]
    }
   ],
   "source": [
    "env = gym.make(\"LunarLander-v3\", continuous=False, gravity=-10.0, enable_wind=False,\n",
    "               wind_power=0, turbulence_power=0)"
   ]
  },
  {
   "cell_type": "markdown",
   "id": "5fcc691e-566d-433a-a387-ff50d48d1e96",
   "metadata": {},
   "source": [
    "### Fase 0: Definizione dei Parametri di Apprendimento\n",
    "\n",
    "Ora definiamo i parametri fondamentali per l'algoritmo di Q-learning, un metodo di Reinforcement Learning basato su una Q-table. \n",
    "\n",
    "- `ALPHA` rappresenta il learning rate, ovvero la velocità con cui il modello aggiorna i valori della Q-table dopo ogni esperienza.\n",
    "- `GAMMA` è il fattore di sconto, che determina quanto il modello considera le ricompense future rispetto a quelle immediate.\n",
    "- `EPSILON` inizializza la probabilità di exploration, regolando il bilanciamento tra exploration ed exploitation;\n",
    "- `EPSILON_DECAY` specifica la velocità con cui `EPSILON` diminuisce\n",
    "- `EPSILON_MIN` valore minimo oltre il quale `EPSILON` non può essere diminuito\n",
    "- `ALPHA_DECAY` specifica la velocità con cui `ALPHA` diminuisce\n",
    "- `ALPHA_MIN` valore minimo oltre il quale `ALPHA` non può essere diminuito. Ciò aiuta la stabilità della convergenza.\n",
    "- `EPISODES` specifica il numero totale di episodi di addestramento, ovvero il numero di tentativi in cui l'agente interagirà con l'ambiente per apprendere una policy ottimale."
   ]
  },
  {
   "cell_type": "code",
   "execution_count": 12,
   "id": "846aa46c-0b89-4e88-8e63-871144a9973d",
   "metadata": {},
   "outputs": [],
   "source": [
    "# Q-learning parameters. Values have been chose after some testing\n",
    "ALPHA = 0.4\n",
    "GAMMA = 1\n",
    "EPSILON = 1\n",
    "EPSILON_DECAY = 0.999\n",
    "ALPHA_DECAY = 0.999\n",
    "ALPHA_MIN = 0.01\n",
    "EPSILON_MIN = 0.02\n",
    "EPISODES = 9000"
   ]
  },
  {
   "cell_type": "markdown",
   "id": "83f503b4-4feb-4a0c-9c70-c601ada087c3",
   "metadata": {},
   "source": [
    "### Fase 1: Rappresentazione degli Stati\n",
    "\n",
    "L'ambiente **Lunar Lander** è un ambiente di **controllo continuo** sviluppato all'interno della libreria **Gymnasium**, in cui un agente deve far atterrare in sicurezza un lander spaziale tra due bandierine, bilanciando l'uso del carburante e minimizzando la velocità d'impatto. Lo [stato](https://gymnasium.farama.org/environments/box2d/lunar_lander/) dell'ambiente è rappresentato da variabili continue, come la posizione, la velocità, l'angolo di inclinazione e la velocità angolare del lander, oltre a indicatori binari che segnalano il contatto con il suolo. Tuttavia, gli algoritmi di Reinforcement Learning (RL) basati su **Q-table** sono progettati per ambienti con **spazi di stato discreti**, in cui è possibile memorizzare e aggiornare valori di azione-stato in una tabella. Per applicare il **Q-learning** o **SARSA** in Lunar Lander, è quindi necessario **discretizzare** lo spazio degli stati, suddividendo le variabili continue in intervalli finiti. Questo permette di ridurre la complessità del problema, rendendo possibile l'apprendimento tabulare, sebbene a costo di una perdita di precisione rispetto a metodi più avanzati come le reti neurali."
   ]
  },
  {
   "cell_type": "markdown",
   "id": "66c8950d-43d0-4f23-9b77-eb8d81c9f32a",
   "metadata": {},
   "source": [
    "Come effettuare questa discretizzazione? Un primo approccio, che funziona in ambienti di controllo continuo più semplici, è quello di dividere l'intervallo continuo in un numero finito di sotto-intervalli di lunghezza uniforme. Ad esempio, considerando esclusivamente la coordinata X dello stato del lander:"
   ]
  },
  {
   "cell_type": "markdown",
   "id": "086703ec-60fb-489d-8335-8efa4ccbc3b4",
   "metadata": {},
   "source": [
    "![title](img/lander-02.jpg)"
   ]
  },
  {
   "cell_type": "markdown",
   "id": "be7f2fd3-ef21-49b8-871d-f325d20eaadb",
   "metadata": {},
   "source": [
    "Il numero di intervalli determina la precisione dell'approssimazione. Tuttavia, nel caso del Lander, affrontiamo una sfida: lo stato è rappresentato da una tupla di [8 elementi](https://gymnasium.farama.org/environments/box2d/lunar_lander/#observation-space), e aumentare la precisione comporta un'esplosione combinatoria del numero di stati, rendendo l'approccio impraticabile.\n",
    "\n",
    "Un compromesso ragionevole è limitare il numero di partizioni a 6 (come mostrato in figura). Tuttavia, con una discretizzazione così grossolana, si introduce un nuovo problema: la scarsa risoluzione rischia di compromettere la precisione del controllo del lander, penalizzandone le prestazioni!"
   ]
  },
  {
   "cell_type": "markdown",
   "id": "c54209eb-1c54-4497-918c-c988314c3cd9",
   "metadata": {},
   "source": [
    "Quindi, come possiamo affrontare il problema? Abbandoniamo tutto o esploriamo un'altra strategia? Osserviamo più da vicino la dinamica del Lander. Se si trova a sinistra della prima bandierina, dovrà accendere il motore sinistro per dirigersi verso la zona di atterraggio; analogamente, se si trova oltre la seconda bandierina, sarà necessario attivare il motore destro. Tuttavia, all'interno dell'area del **Landing Pad**, il controllo deve essere molto più preciso: il lander deve stabilizzarsi accuratamente per garantire un atterraggio sicuro e in posizione orizzontale.\n",
    "\n",
    "Seguendo questa logica, possiamo adottare una strategia più efficiente: mantenere una **maggiore risoluzione** nell'area di atterraggio, dove la precisione è cruciale, e **ridurre la granularità** nelle zone periferiche, dove le azioni possono essere più grossolane senza compromettere il risultato. Basandoci su questa idea, la soluzione che esploreremo in questo laboratorio utilizza un **partizionamento non uniforme** dello spazio degli stati:"
   ]
  },
  {
   "cell_type": "markdown",
   "id": "449f130e-a7b3-455a-8d77-d58aac583479",
   "metadata": {},
   "source": [
    "![title](img/lander-03.jpg)"
   ]
  },
  {
   "cell_type": "markdown",
   "id": "c8708f6c-662d-4b9d-91ec-9d4b530d372b",
   "metadata": {},
   "source": [
    "La riga di codice seguente implementa questo principio. Un approccio analogo viene applicato anche alle altre componenti dello stato, come la coordinata Y, le velocità lungo gli assi X e Y, l'angolo di inclinazione e la velocità angolare, garantendo una discretizzazione più efficace e mirata."
   ]
  },
  {
   "cell_type": "code",
   "execution_count": 13,
   "id": "89e24ea1-57a3-42c6-a263-3e0c60c8b8ea",
   "metadata": {},
   "outputs": [],
   "source": [
    "discretizer = Discretizer(env)  # it creates a non-uniform discretizer \n",
    "                                # object specific to the Lunar Lander problem"
   ]
  },
  {
   "cell_type": "markdown",
   "id": "f28e48c5-a640-4981-980a-34c32fd2fb57",
   "metadata": {},
   "source": [
    "### Fase 2: Definizione delle Funzioni per l'Apprendimento"
   ]
  },
  {
   "cell_type": "markdown",
   "id": "862b4663-a6ec-4787-96ac-7ef7f21b741f",
   "metadata": {},
   "source": [
    "#### 2.1: Definizione della funzione `epsilon-greedy`\n",
    "\n",
    "Adesso definiamo una _funzione_ per implementare la strategia **epsilon-greedy**. Questa\n",
    "funzione servirà a bilanciare **exploration** ed **exploitation**.\n",
    "\n",
    "**Input:**\n",
    "`Q`: la Q-table\n",
    "`state`: lo stato attuale dell'agente.\n",
    "`epsilon`: il parametro che determina la probabilità di esplorazione.\n",
    "\n",
    "**Output:**\n",
    "Restituisce un'azione da eseguire in base alla strategia epsilon-greedy."
   ]
  },
  {
   "cell_type": "code",
   "execution_count": 14,
   "id": "e048cfa0-8bf1-4dd4-b523-f018980102e6",
   "metadata": {},
   "outputs": [],
   "source": [
    "def epsilon_greedy_policy(Q, state, epsilon):\n",
    "    if random.random() < epsilon:\n",
    "        return env.action_space.sample()  # Exploration: take a random action (exploration) \n",
    "                                          # with probability < epsilon\n",
    "    else:\n",
    "        return np.argmax(Q[state])  # Exploitation: use agent's knowledge to choose the next action"
   ]
  },
  {
   "cell_type": "markdown",
   "id": "0880e50a-b871-48c7-81b2-ba197fb00f76",
   "metadata": {},
   "source": [
    "#### 2.2: Definizione della funzione `qlearning`  \n",
    "\n",
    "La funzione `qlearning` implementa l'algoritmo **Q-learning**, una tecnica di **Reinforcement Learning** basata su **Q-table**, utilizzata per apprendere una politica ottimale attraverso l'interazione con l'ambiente.  \n",
    "\n",
    "---\n",
    "\n",
    "**Parametri:**\n",
    "- `Q`: la Q-table che intendiamo popolare.\n",
    "- `alpha`: tasso di apprendimento (**learning rate**), che controlla quanto velocemente vengono aggiornati i valori della Q-table.  \n",
    "- `gamma`: fattore di sconto (**discount factor**), che determina il peso delle ricompense future rispetto a quelle immediate.  \n",
    "- `epsilon`: probabilità iniziale di esplorazione nell'**epsilon-greedy policy**.  \n",
    "- `epsilon_decay`: fattore di decadimento di `epsilon`, per ridurre gradualmente l'esplorazione nel tempo.  \n",
    "- `epsilon_min`: valore minimo di `epsilon`, per garantire un livello minimo di esplorazione.  \n",
    "- `episodes`: numero totale di episodi di addestramento.  \n",
    "\n",
    "---\n",
    "\n",
    "**Funzionamento:**  \n",
    "\n",
    "1. **Inizializzazione:**  \n",
    "   - Viene creato un array `rewards` per memorizzare le ricompense di ogni episodio.  \n",
    "   - Si entra in un ciclo che esegue il training per un numero `episodes` iterazioni.  \n",
    "\n",
    "2. **Episodio di training:**  \n",
    "   - L'ambiente viene **resettato** (`env.reset()`), e lo stato iniziale viene **discretizzato**.  \n",
    "   - Viene impostato un **timeout di hovering** (500 iterazioni), per evitare che il lander rimanga sospeso senza atterrare.\n",
    "\n",
    "3. **Interazione con l’ambiente:**  \n",
    "   - L'agente seleziona un'azione con la strategia **epsilon-greedy**.  \n",
    "   - L'ambiente restituisce il nuovo stato, la ricompensa e lo stato di terminazione.  \n",
    "   - Se il lander è sospeso in aria utilizza il motore principale (`action == 2`), viene applicata una penalità aggiuntiva. Questo per disincentivare fenomeni di hovering. La penalità diminuisce progressivamente man mano che il lander si avvicina al suolo.\n",
    "   - Se il timeout di hovering si esaurisce, l'episodio termina.\n",
    "   - Il lander riceve una ricompensa aggiuntiva se, una volta toccato il suolo con entrambe le gambe nell'area delle bandierine, mantiene il motore principale spento.  \n",
    "\n",
    "4. **Aggiornamento della Q-table (Q-learning update):**  \n",
    "   - Si aggiorna il valore **Q(s, a)** usando la formula:  \n",
    "     $$\n",
    "     Q(s, a) \\leftarrow Q(s, a) + \\alpha \\cdot (r + \\gamma \\cdot \\max Q(s', a') - Q(s, a))\n",
    "     $$\n",
    "   - A differenza di **SARSA**, Q-learning utilizza **l'azione migliore possibile nel nuovo stato (`max Q(s', a')`)** invece dell'azione effettivamente eseguita.  \n",
    "\n",
    "5. **Decadimento di `epsilon`:**  \n",
    "   - `epsilon` viene ridotto ad ogni episodio per passare gradualmente dall'exploration alla exploitation.  \n",
    "\n",
    "6. **Monitoraggio delle prestazioni:**  \n",
    "   - Ogni 100 episodi, viene calcolata la **media delle ricompense recenti**.\n",
    "\n",
    "---\n",
    "\n",
    "**Output:**  \n",
    "Restituisce l'array `rewards`, che contiene la ricompensa totale ottenuta in ciascun episodio.  \n",
    "\n",
    "---"
   ]
  },
  {
   "cell_type": "code",
   "execution_count": 15,
   "id": "c4682cda-3ef4-4151-a24d-12524aa4609f",
   "metadata": {},
   "outputs": [],
   "source": [
    "def qlearning (Q, alpha, gamma, epsilon, epsilon_decay, epsilon_min, episodes):\n",
    "    rewards=[]\n",
    "\n",
    "    # Training loop\n",
    "    for episode in range(episodes):\n",
    "        state, _ = env.reset(seed=42)\n",
    "        state = discretizer.discretize(state)  # discretize the state\n",
    "        total_reward = 0\n",
    "        done = False\n",
    "\n",
    "        alpha = max(ALPHA_MIN, alpha * ALPHA_DECAY)  # Decay learning rate for stability\n",
    "\n",
    "        hovering_timeout = 500  # avoid hovering\n",
    "\n",
    "        while not done:\n",
    "            action = epsilon_greedy_policy(Q, state, epsilon)  # Q-table (next action is the best possible action, modulo epsilon)\n",
    "            next_state, reward, terminated, truncated, _ = env.step(action)\n",
    "            done = terminated or truncated\n",
    "\n",
    "            next_state = discretizer.discretize(next_state)\n",
    "\n",
    "            # If the lander is high in the sky and the main engine is still turned on, penalize\n",
    "            if action == 2:\n",
    "                reward -= 0.6\n",
    "                if state[1] < 2:\n",
    "                    reward += 0.3\n",
    "                if state[1] < 1:\n",
    "                    reward += 0.3\n",
    "\n",
    "            # If hovering timeout has been reached, terminate the learning episode\n",
    "            hovering_timeout -= 1\n",
    "            if hovering_timeout == 0:\n",
    "                done = True\n",
    "\n",
    "            if state[6] == 1 and state[7] == 1 and state[0] > 0 and state[0] < 5 and action == 0:\n",
    "                reward += 70\n",
    "            \n",
    "            # Q-learning update\n",
    "            total_reward += reward\n",
    "            best_next_action = np.argmax(Q[next_state])  # Qtable, as opposed to sarsa, picks the best action\n",
    "            Q[state][action] += alpha * (reward + gamma * Q[next_state][best_next_action] - Q[state][action])\n",
    "\n",
    "            state = next_state\n",
    "\n",
    "        rewards.append(total_reward)\n",
    "\n",
    "        # Decay epsilon\n",
    "        if epsilon > 0:\n",
    "            epsilon = max(epsilon * epsilon_decay, epsilon_min)\n",
    "        \n",
    "        if episode % 100 == 0:\n",
    "            avg_reward = np.mean(rewards[-100:])\n",
    "            print(f\"Episode {episode}, Avg Reward: {avg_reward}, Epsilon: {epsilon:.3f}, Alpha: {alpha:.3f}\")\n",
    "\n",
    "    return rewards"
   ]
  },
  {
   "cell_type": "markdown",
   "id": "856998d0-0d3e-4ca2-9abe-3ba695d3f6d6",
   "metadata": {},
   "source": [
    "#### 2.3 Definizione della funzione `sarsa`\n",
    "\n",
    "Adesso definiamo una funzione del tutto analoga a quella sopra, ma che usa la variante Sarsa. Sarsa differisce dal Qlearning nel modi in cui viene aggiornata la QTable.\n",
    "\n",
    "**1. Differenza chiave: aggiornamento della Q-table**  \n",
    "- **Q-learning (off-policy)**  \n",
    "  - Aggiorna **Q(s, a)** usando la **migliore azione possibile nel nuovo stato**  \n",
    "  - Formula:  \n",
    "    $$\n",
    "    Q(s, a) \\leftarrow Q(s, a) + \\alpha \\cdot (r + \\gamma \\max Q(s', a') - Q(s, a))\n",
    "    $$\n",
    "  - Non segue direttamente la politica utilizzata durante l’apprendimento.  \n",
    "  - Maggior **tendenza all’ottimizzazione** e all’**esplorazione più aggressiva**.  \n",
    "\n",
    "- **SARSA (on-policy)**  \n",
    "  - Aggiorna **Q(s, a)** usando **l'azione realmente eseguita** nel nuovo stato  \n",
    "  - Formula:  \n",
    "    $$\n",
    "    Q(s, a) \\leftarrow Q(s, a) + \\alpha \\cdot (r + \\gamma Q(s', a') - Q(s, a))\n",
    "    $$\n",
    "  - Segue la stessa politica che viene utilizzata durante l’apprendimento.  \n",
    "  - Più **conservativo e stabile**, ma può convergere più lentamente.  \n",
    "\n",
    "---\n",
    "\n",
    "**Quale scegliere?**  \n",
    "- **Q-learning** è più adatto per ambienti in cui è possibile esplorare liberamente, perché tende a convergere più velocemente.  \n",
    "- **SARSA** è più sicuro in ambienti con rischi elevati, perché l’agente apprende una politica più stabile.  \n",
    "\n",
    "Nel contesto del **Lunar Lander**, Q-learning potrebbe essere più efficace, ma SARSA potrebbe portare a un comportamento più controllato e sicuro."
   ]
  },
  {
   "cell_type": "code",
   "execution_count": 16,
   "id": "c6de5759-26fb-4b1b-9695-cf301b0902ab",
   "metadata": {},
   "outputs": [],
   "source": [
    "def sarsa(Q, alpha, gamma, epsilon, epsilon_decay, epsilon_min, episodes):\n",
    "    rewards = []\n",
    "\n",
    "    # Training loop\n",
    "    for episode in range(episodes):\n",
    "        state, _ = env.reset(seed=42)  # seed=42\n",
    "        state = discretizer.discretize(state)\n",
    "        total_reward = 0\n",
    "        done = False\n",
    "\n",
    "        alpha = max(ALPHA_MIN, alpha * ALPHA_DECAY)  # Decay learning rate for stability\n",
    "        hovering_timeout = 500\n",
    "\n",
    "        action = epsilon_greedy_policy(Q, state, epsilon)  # SARSA selects next action\n",
    "\n",
    "        while not done:\n",
    "            next_state, reward, terminated, truncated, _ = env.step(action)  # SARSA: action is the one dictated by the policy\n",
    "            done = terminated or truncated\n",
    "            next_state = discretizer.discretize(next_state)\n",
    "            \n",
    "            if action == 2:\n",
    "                reward -= 0.6\n",
    "                if state[1] < 2:\n",
    "                    reward += 0.3\n",
    "                if state[1] < 1:\n",
    "                    reward += 0.3\n",
    "\n",
    "            hovering_timeout -= 1\n",
    "            if hovering_timeout == 0:\n",
    "                done = True\n",
    "\n",
    "            if state[6] == 1 and state[7] == 1 and state[0] > 0 and state[0] < 5 and action == 0:\n",
    "                reward += 70\n",
    "            \n",
    "            # SARSA update\n",
    "            next_action = epsilon_greedy_policy(Q, next_state, epsilon)\n",
    "            Q[state][action] += alpha * (reward + gamma * Q[next_state][next_action] - Q[state][action])\n",
    "\n",
    "            state, action = next_state, next_action\n",
    "            total_reward += reward\n",
    "\n",
    "        rewards.append(total_reward)\n",
    "\n",
    "        # Adaptive epsilon decay based on performance\n",
    "        epsilon = max(epsilon * epsilon_decay, epsilon_min)\n",
    "\n",
    "        if episode % 100 == 0:\n",
    "            avg_reward = np.mean(rewards[-100:])\n",
    "            print(f\"Episode {episode}, Avg Reward: {avg_reward}, Epsilon: {epsilon:.3f}, Alpha: {alpha:.3f}\")\n",
    "\n",
    "    return rewards"
   ]
  },
  {
   "cell_type": "markdown",
   "id": "12cdf084-aa53-4363-8979-6bd66d45852d",
   "metadata": {},
   "source": [
    "### Fase 3: Apprendimento"
   ]
  },
  {
   "cell_type": "markdown",
   "id": "4e2cee18-e2ed-4b5d-91bd-3e048feec695",
   "metadata": {},
   "source": [
    "Siamo pronti per addestrare il nostro Lander! 🚀 \n",
    "\n",
    "Per prima cosa, inizializziamo la QTable per l'apprendimento dell'agente. Nella linea seguente:\n",
    "\n",
    "- `Q` è un dizionario predefinito (defaultdict) in cui le chiavi rappresentano gli stati dell'ambiente e i valori sono array di lunghezza `env.action_space.n`, ovvero il numero di azioni disponibili nell'ambiente.\n",
    "- `defaultdict(lambda: np.zeros(env.action_space.n))` garantisce che, quando un nuovo stato viene incontrato per la prima volta, venga automaticamente associato a un array di zero iniziali con una dimensione pari al numero di azioni possibili.\n",
    "- `np.zeros(env.action_space.n)` crea un array di zeri che rappresenta i valori `Q(s, a)` di tutte le azioni `a` per un dato stato `s`, inizialmente impostati a zero."
   ]
  },
  {
   "cell_type": "code",
   "execution_count": 17,
   "id": "47ac3a2d-aadd-4584-bd8e-435b25d2a713",
   "metadata": {},
   "outputs": [],
   "source": [
    "# Initialize Q-table\n",
    "Q = defaultdict(lambda: np.zeros(env.action_space.n))"
   ]
  },
  {
   "cell_type": "markdown",
   "id": "f8b43df5-34c9-41c2-b2f2-b73fad4d8465",
   "metadata": {},
   "source": [
    "Avviamo l'addestramento utilizzando l'algoritmo **SARSA**, calcoliamo la ricompensa media su tutti gli episodi e visualizziamo un grafico che mostra l'andamento delle ricompense nel tempo."
   ]
  },
  {
   "cell_type": "code",
   "execution_count": 18,
   "id": "e952dc75-e85a-4b85-92fa-210c2d2c7b59",
   "metadata": {},
   "outputs": [
    {
     "name": "stdout",
     "output_type": "stream",
     "text": [
      "Episode 0, Avg Reward: -101.6358142718568, Epsilon: 0.999, Alpha: 0.400\n",
      "Episode 100, Avg Reward: -185.34642885711662, Epsilon: 0.904, Alpha: 0.362\n",
      "Episode 200, Avg Reward: -169.65941689821466, Epsilon: 0.818, Alpha: 0.327\n",
      "Average training reward: -178.1699230822598\n"
     ]
    },
    {
     "data": {
      "image/png": "[encoded data removed]",
      "text/plain": [
       "<Figure size 640x480 with 1 Axes>"
      ]
     },
     "metadata": {},
     "output_type": "display_data"
    }
   ],
   "source": [
    "rewards = sarsa(Q, ALPHA, GAMMA, EPSILON, EPSILON_DECAY, EPSILON_MIN, EPISODES)\n",
    "print('Average training reward: {}'.format(np.mean(rewards)))\n",
    "plot_rewards(rewards)\n",
    "plt.show()\n",
    "env.close()"
   ]
  },
  {
   "cell_type": "markdown",
   "id": "5956ca8d-ecbc-425f-aec3-f427bfc1182a",
   "metadata": {},
   "source": [
    "## Fase 4: Mettiamo alla prova il nostro Lander!\n",
    "\n",
    "Valutiamo le prestazioni del nostro Lander testandolo su **100 episodi** con la funzione `test`.\n",
    "Infine, utilizziamo la funzione `view` per eseguire un episodio in modalità grafica e osservare il comportamento dell'agente in azione! Osserva come entrambe le funzioni richiedano come input la QTable `Q` appena addestrata."
   ]
  },
  {
   "cell_type": "code",
   "execution_count": 59,
   "id": "67b51655-87b7-41d9-923c-ac46ff01035c",
   "metadata": {},
   "outputs": [
    {
     "name": "stdout",
     "output_type": "stream",
     "text": [
      "Number of states in Q-Table:1940\n",
      "Average deployment reward: 129.8085102822938\n"
     ]
    }
   ],
   "source": [
    "print(\"Number of states in Q-Table:\" + str(len(Q)))\n",
    "test(discretizer, Q)\n",
    "view(discretizer, Q)"
   ]
  },
  {
   "cell_type": "markdown",
   "id": "50351379-a549-45fb-9c29-3a11649e54d4",
   "metadata": {},
   "source": [
    "## Adesso tocca a te! 🚀  \n",
    "\n",
    "Metti alla prova la funzione `qlearning`, sperimenta con diversi valori dei parametri e cerca di ottimizzare il comportamento dell'agente. Ad esempio, prova a impedire che continui a sprecare carburante dopo l'atterraggio.  \n",
    "\n",
    "Affina la strategia, migliora le prestazioni e trova la soluzione più efficace. L’unico limite è la tua creatività! 🔥"
   ]
  },
  {
   "cell_type": "code",
   "execution_count": null,
   "id": "036118bf-177c-4e9e-86dd-cf55b0ebdabe",
   "metadata": {},
   "outputs": [],
   "source": []
  }
 ],
 "metadata": {
  "kernelspec": {
   "display_name": "Python 3 (ipykernel)",
   "language": "python",
   "name": "python3"
  },
  "language_info": {
   "codemirror_mode": {
    "name": "ipython",
    "version": 3
   },
   "file_extension": ".py",
   "mimetype": "text/x-python",
   "name": "python",
   "nbconvert_exporter": "python",
   "pygments_lexer": "ipython3",
   "version": "3.12.8"
  }
 },
 "nbformat": 4,
 "nbformat_minor": 5
}
